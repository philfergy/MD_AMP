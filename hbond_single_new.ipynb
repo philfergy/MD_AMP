{
 "cells": [
  {
   "cell_type": "markdown",
   "metadata": {},
   "source": [
    "<b><u>This notebook characterise peptide:lipid hydrogen bonds in AMP +  membrane systems</b></u>\n",
    "\n",
    "\n",
    "Hbondanalysis module of mdAnalysis does not deal with lipid atoms by default. As a result, these must be entered\n",
    "manually in the cell below. Otherwise the script should function as with other scripts. \n",
    "\n",
    "\n",
    "<i>To do: \n",
    "\n",
    "Write script to show the poppulations of hydrogen bonds Possible histogram.</l>\n",
    "\n",
    "Change x axis of heatmap\n",
    "</i>"
   ]
  },
  {
   "cell_type": "code",
   "execution_count": 13,
   "metadata": {},
   "outputs": [],
   "source": [
    "import MDAnalysis\n",
    "import numpy as np\n",
    "import pandas as pd\n",
    "import matplotlib.pyplot as plt\n",
    "import seaborn as sns\n",
    "import MDAnalysis.analysis.hbonds"
   ]
  },
  {
   "cell_type": "code",
   "execution_count": 14,
   "metadata": {},
   "outputs": [],
   "source": [
    "\n",
    "##gromacs configuration file###\n",
    "gro_file = 'fullsys.gro'\n",
    "##compressed trajectory file###\n",
    "trajectory_file = 'traj_comp.xtc'\n",
    "u = MDAnalysis.Universe('%s'%gro_file, '%s'%trajectory_file)\n",
    "##### Sim start and sim end time in ns\n",
    "start = 0 \n",
    "end = 200\n",
    "\n",
    "##define lipid acceptors/donors. This has already been done for POPE and POPG \n",
    "lipid_acceptors  = ['031','032','021','O22','O11','O13','O14','OC3','OC2','N']\n",
    "lipid_donors =['HO2','HO3','HN1','HN2','HN3']\n"
   ]
  },
  {
   "cell_type": "code",
   "execution_count": 15,
   "metadata": {},
   "outputs": [],
   "source": [
    "################################# INSERT INFO FOR PEPTIDE1 ##########################################\n",
    "peptide1 = dict()\n",
    "#### Single letter sequence #####\n",
    "peptide1['sequence'] = 'RKSKEKIGKEFKRIVQRIKDFLRNLVPRTES'\n",
    "#### Peptide name #####\n",
    "peptide1['peptide_name'] = 'RK-31'\n",
    "#### Number of peptides #####\n",
    "peptide1['pepnum'] = 4\n",
    "### DO NOT EDIT ###\n",
    "peptide1['resnum'] = len(peptide1['sequence'])\n",
    "peptide1['restot'] = peptide1['pepnum']*peptide1['resnum']\n",
    "peptide1['starting_resid'] = 1"
   ]
  },
  {
   "cell_type": "code",
   "execution_count": 16,
   "metadata": {},
   "outputs": [],
   "source": [
    "#create dictionary of amino acids \n",
    "d = {'CYS': 'C', 'ASP': 'D', 'SER': 'S', 'GLN': 'Q', 'LYS': 'K',\n",
    "     'ILE': 'I', 'PRO': 'P', 'THR': 'T', 'PHE': 'F', 'ASN': 'N', \n",
    "     'GLY': 'G', 'HSP': 'H', 'LEU': 'L', 'ARG': 'R', 'TRP': 'W', \n",
    "     'ALA': 'A', 'VAL':'V', 'GLU': 'E', 'TYR': 'Y', 'MET': 'M'}\n",
    "#invert to permit single letter to be entered\n",
    "inv_map = {v: k for k, v in d.items()}\n",
    "#create function to generate 3 letter code with residue position\n",
    "def single_three(sequence,resnum):\n",
    "    single = (list(sequence)) \n",
    "    Aminos=[]\n",
    "    for i in range(0,(resnum)):\n",
    "        value = single[i]\n",
    "        Aminos.append((str(i+1))+inv_map[value])\n",
    "    return Aminos\n",
    "peptide1['Aminos'] = single_three(peptide1['sequence'],peptide1['resnum'])\n",
    "#Make list of peptides for plotting loops"
   ]
  },
  {
   "cell_type": "code",
   "execution_count": 17,
   "metadata": {},
   "outputs": [],
   "source": [
    "#Run hydrogen bond analysis, get counts.\n",
    "def hbond_heatmap_cal(peptide):\n",
    "    total = peptide['Aminos']*peptide['pepnum']\n",
    "    hbonds = []\n",
    "    for i in range (peptide1['starting_resid'],(len(total)+peptide1['starting_resid'])):\n",
    "        temp = MDAnalysis.analysis.hbonds.HydrogenBondAnalysis(u, \"resid %s\"%i, \n",
    "                                                               \"resname POPE or resname POPG\",update_selection=\"True\",\n",
    "                                                               distance=3.0,angle=120,donors=lipid_donors,\n",
    "                                                               acceptors=lipid_acceptors)\n",
    "        temp.run(step=100)\n",
    "        count = temp.count_by_time()\n",
    "        for j in range(0,len(count)):\n",
    "            hbonds.append([count[j][0],total[(i-(peptide1['starting_resid']))],count[j][1]])\n",
    "\n",
    "    df = pd.DataFrame(hbonds)    \n",
    "    df.rename(columns={ df.columns[0]: \"Time (ns)\", df.columns[1]: \"Residue\",\n",
    "                       df.columns[2]: \"Hbond_num\" }, inplace = True)\n",
    "    df['Time (ns)'] = df['Time (ns)']/1000\n",
    "    ##sum hydrogen bonds for each residue, unstack for wideform\n",
    "    df = df.groupby(['Residue','Time (ns)'],sort=False).sum().unstack()\n",
    "    df = df.reset_index()\n",
    "    df['Section_Number'] = df['Residue'].str.replace('([A-Z]+)', '').astype(float)\n",
    "    df = df.sort_values('Section_Number')\n",
    "    df = df.drop('Section_Number',1)\n",
    "    df = df.set_index('Residue')\n",
    "    df.columns = df.columns.droplevel()\n",
    "    return df\n",
    "        \n",
    "##create data frame, rearrange, plot as heatmap\n",
    "def plot_hbond_heatmap(peptide):\n",
    "    ## plot heatmap\n",
    "    sns.set(font_scale=0.7)\n",
    "    sns.heatmap(hbond_heatmap_cal(peptide),cbar_kws={'label': 'Number of hydrogen bonds'},\n",
    "                xticklabels=25,yticklabels=1,cmap=\"Oranges\")\n",
    "    plt.xlabel('Time (ns)', fontsize=12)\n",
    "    plt.ylabel('Residue', fontsize=12)\n",
    "    plt.ylim(0,peptide['resnum'])\n",
    "    #plt.xlim(start,end)\n",
    "    plt.tick_params(\n",
    "        which='both', \n",
    "        width = 0.6,\n",
    "        bottom=True,\n",
    "        left=True,\n",
    "        labelbottom=True) \n",
    "    plt.savefig('hydrogen_bond_per_res.png',dpi=300,bbox_inches=\"tight\")"
   ]
  },
  {
   "cell_type": "code",
   "execution_count": null,
   "metadata": {},
   "outputs": [],
   "source": [
    "plot_hbond_heatmap(peptide1)"
   ]
  },
  {
   "cell_type": "markdown",
   "metadata": {},
   "source": [
    "<b> This Cell will output a csv file with the sum of all hydrogen bonds. The output of this can be used in another notebook to make a boxplot </b>"
   ]
  },
  {
   "cell_type": "markdown",
   "metadata": {},
   "source": [
    "<b> This Cell will output a csv file a running total of all hydrogen bonds to make an x,y plot </b>"
   ]
  },
  {
   "cell_type": "code",
   "execution_count": 18,
   "metadata": {},
   "outputs": [
    {
     "name": "stdout",
     "output_type": "stream",
     "text": [
      "1\n"
     ]
    },
    {
     "name": "stderr",
     "output_type": "stream",
     "text": [
      "/Users/philipferguson/.local/lib/python3.6/site-packages/MDAnalysis/analysis/hbonds/hbond_analysis.py:650: SelectionWarning: No donors found in selection 1. You might have to specify a custom 'donors' keyword. Selection will update so continuing with fingers crossed.\n",
      "  warnings.warn(errmsg, category=SelectionWarning)\n",
      "/Users/philipferguson/.local/lib/python3.6/site-packages/MDAnalysis/analysis/hbonds/hbond_analysis.py:650: SelectionWarning: No acceptors found in selection 1. You might have to specify a custom 'acceptors' keyword. Selection will update so continuing with fingers crossed.\n",
      "  warnings.warn(errmsg, category=SelectionWarning)\n",
      "/Users/philipferguson/.local/lib/python3.6/site-packages/MDAnalysis/analysis/hbonds/hbond_analysis.py:650: SelectionWarning: No acceptors found in selection 2. You might have to specify a custom 'acceptors' keyword. Selection will update so continuing with fingers crossed.\n",
      "  warnings.warn(errmsg, category=SelectionWarning)\n",
      "/Users/philipferguson/.local/lib/python3.6/site-packages/MDAnalysis/analysis/hbonds/hbond_analysis.py:650: SelectionWarning: No donors found in selection 2. You might have to specify a custom 'donors' keyword. Selection will update so continuing with fingers crossed.\n",
      "  warnings.warn(errmsg, category=SelectionWarning)\n"
     ]
    },
    {
     "name": "stdout",
     "output_type": "stream",
     "text": [
      "2\n"
     ]
    },
    {
     "ename": "KeyboardInterrupt",
     "evalue": "",
     "output_type": "error",
     "traceback": [
      "\u001b[0;31m---------------------------------------------------------------------------\u001b[0m",
      "\u001b[0;31mKeyboardInterrupt\u001b[0m                         Traceback (most recent call last)",
      "\u001b[0;32m<ipython-input-18-366fc571fc0d>\u001b[0m in \u001b[0;36m<module>\u001b[0;34m()\u001b[0m\n\u001b[1;32m     20\u001b[0m     \u001b[0;32mreturn\u001b[0m \u001b[0mdf_out\u001b[0m\u001b[0;34m\u001b[0m\u001b[0m\n\u001b[1;32m     21\u001b[0m \u001b[0;34m\u001b[0m\u001b[0m\n\u001b[0;32m---> 22\u001b[0;31m \u001b[0msave_file\u001b[0m \u001b[0;34m=\u001b[0m \u001b[0mboxplot_hbond\u001b[0m\u001b[0;34m(\u001b[0m\u001b[0mpeptide1\u001b[0m\u001b[0;34m)\u001b[0m\u001b[0;34m\u001b[0m\u001b[0m\n\u001b[0m\u001b[1;32m     23\u001b[0m \u001b[0msave_file\u001b[0m\u001b[0;34m.\u001b[0m\u001b[0mto_csv\u001b[0m\u001b[0;34m(\u001b[0m\u001b[0;34m'hbond_sum_%s.csv'\u001b[0m\u001b[0;34m%\u001b[0m\u001b[0mpeptide1\u001b[0m\u001b[0;34m[\u001b[0m\u001b[0;34m'peptide_name'\u001b[0m\u001b[0;34m]\u001b[0m\u001b[0;34m)\u001b[0m\u001b[0;34m\u001b[0m\u001b[0m\n",
      "\u001b[0;32m<ipython-input-18-366fc571fc0d>\u001b[0m in \u001b[0;36mboxplot_hbond\u001b[0;34m(peptide)\u001b[0m\n\u001b[1;32m     13\u001b[0m                                                                \u001b[0mdistance\u001b[0m\u001b[0;34m=\u001b[0m\u001b[0;36m3.0\u001b[0m\u001b[0;34m,\u001b[0m\u001b[0mangle\u001b[0m\u001b[0;34m=\u001b[0m\u001b[0;36m120\u001b[0m\u001b[0;34m,\u001b[0m\u001b[0mdonors\u001b[0m\u001b[0;34m=\u001b[0m\u001b[0mlipid_donors\u001b[0m\u001b[0;34m,\u001b[0m\u001b[0;34m\u001b[0m\u001b[0m\n\u001b[1;32m     14\u001b[0m                                                                acceptors=lipid_acceptors)\n\u001b[0;32m---> 15\u001b[0;31m             \u001b[0mtemp\u001b[0m\u001b[0;34m.\u001b[0m\u001b[0mrun\u001b[0m\u001b[0;34m(\u001b[0m\u001b[0mstep\u001b[0m\u001b[0;34m=\u001b[0m\u001b[0;36m100\u001b[0m\u001b[0;34m)\u001b[0m\u001b[0;34m\u001b[0m\u001b[0m\n\u001b[0m\u001b[1;32m     16\u001b[0m             \u001b[0mcount\u001b[0m \u001b[0;34m=\u001b[0m \u001b[0mtemp\u001b[0m\u001b[0;34m.\u001b[0m\u001b[0mcount_by_time\u001b[0m\u001b[0;34m(\u001b[0m\u001b[0;34m)\u001b[0m\u001b[0;34m\u001b[0m\u001b[0m\n\u001b[1;32m     17\u001b[0m             \u001b[0mvalue\u001b[0m \u001b[0;34m=\u001b[0m \u001b[0mpd\u001b[0m\u001b[0;34m.\u001b[0m\u001b[0mDataFrame\u001b[0m\u001b[0;34m(\u001b[0m\u001b[0mcount\u001b[0m\u001b[0;34m)\u001b[0m\u001b[0;34m[\u001b[0m\u001b[0;34m'count'\u001b[0m\u001b[0;34m]\u001b[0m\u001b[0;34m.\u001b[0m\u001b[0msum\u001b[0m\u001b[0;34m(\u001b[0m\u001b[0;34m)\u001b[0m\u001b[0;34m\u001b[0m\u001b[0m\n",
      "\u001b[0;32m~/.local/lib/python3.6/site-packages/MDAnalysis/analysis/hbonds/hbond_analysis.py\u001b[0m in \u001b[0;36mrun\u001b[0;34m(self, start, stop, step, verbose, **kwargs)\u001b[0m\n\u001b[1;32m    966\u001b[0m                 \u001b[0mself\u001b[0m\u001b[0;34m.\u001b[0m\u001b[0m_update_selection_1\u001b[0m\u001b[0;34m(\u001b[0m\u001b[0;34m)\u001b[0m\u001b[0;34m\u001b[0m\u001b[0m\n\u001b[1;32m    967\u001b[0m             \u001b[0;32mif\u001b[0m \u001b[0mself\u001b[0m\u001b[0;34m.\u001b[0m\u001b[0mupdate_selection2\u001b[0m\u001b[0;34m:\u001b[0m\u001b[0;34m\u001b[0m\u001b[0m\n\u001b[0;32m--> 968\u001b[0;31m                 \u001b[0mself\u001b[0m\u001b[0;34m.\u001b[0m\u001b[0m_update_selection_2\u001b[0m\u001b[0;34m(\u001b[0m\u001b[0;34m)\u001b[0m\u001b[0;34m\u001b[0m\u001b[0m\n\u001b[0m\u001b[1;32m    969\u001b[0m \u001b[0;34m\u001b[0m\u001b[0m\n\u001b[1;32m    970\u001b[0m             \u001b[0mbox\u001b[0m \u001b[0;34m=\u001b[0m \u001b[0mself\u001b[0m\u001b[0;34m.\u001b[0m\u001b[0mu\u001b[0m\u001b[0;34m.\u001b[0m\u001b[0mdimensions\u001b[0m \u001b[0;32mif\u001b[0m \u001b[0mself\u001b[0m\u001b[0;34m.\u001b[0m\u001b[0mpbc\u001b[0m \u001b[0;32melse\u001b[0m \u001b[0;32mNone\u001b[0m\u001b[0;34m\u001b[0m\u001b[0m\n",
      "\u001b[0;32m~/.local/lib/python3.6/site-packages/MDAnalysis/analysis/hbonds/hbond_analysis.py\u001b[0m in \u001b[0;36m_update_selection_2\u001b[0;34m(self)\u001b[0m\n\u001b[1;32m    822\u001b[0m     \u001b[0;32mdef\u001b[0m \u001b[0m_update_selection_2\u001b[0m\u001b[0;34m(\u001b[0m\u001b[0mself\u001b[0m\u001b[0;34m)\u001b[0m\u001b[0;34m:\u001b[0m\u001b[0;34m\u001b[0m\u001b[0m\n\u001b[1;32m    823\u001b[0m         \u001b[0mbox\u001b[0m \u001b[0;34m=\u001b[0m \u001b[0mself\u001b[0m\u001b[0;34m.\u001b[0m\u001b[0mu\u001b[0m\u001b[0;34m.\u001b[0m\u001b[0mdimensions\u001b[0m \u001b[0;32mif\u001b[0m \u001b[0mself\u001b[0m\u001b[0;34m.\u001b[0m\u001b[0mpbc\u001b[0m \u001b[0;32melse\u001b[0m \u001b[0;32mNone\u001b[0m\u001b[0;34m\u001b[0m\u001b[0m\n\u001b[0;32m--> 824\u001b[0;31m         \u001b[0mself\u001b[0m\u001b[0;34m.\u001b[0m\u001b[0m_s2\u001b[0m \u001b[0;34m=\u001b[0m \u001b[0mself\u001b[0m\u001b[0;34m.\u001b[0m\u001b[0mu\u001b[0m\u001b[0;34m.\u001b[0m\u001b[0mselect_atoms\u001b[0m\u001b[0;34m(\u001b[0m\u001b[0mself\u001b[0m\u001b[0;34m.\u001b[0m\u001b[0mselection2\u001b[0m\u001b[0;34m)\u001b[0m\u001b[0;34m\u001b[0m\u001b[0m\n\u001b[0m\u001b[1;32m    825\u001b[0m         \u001b[0;32mif\u001b[0m \u001b[0mself\u001b[0m\u001b[0;34m.\u001b[0m\u001b[0mfilter_first\u001b[0m \u001b[0;32mand\u001b[0m \u001b[0mself\u001b[0m\u001b[0;34m.\u001b[0m\u001b[0m_s2\u001b[0m\u001b[0;34m:\u001b[0m\u001b[0;34m\u001b[0m\u001b[0m\n\u001b[1;32m    826\u001b[0m             self.logger_debug('Size of selection 2 before filtering:'\n",
      "\u001b[0;32m~/.local/lib/python3.6/site-packages/MDAnalysis/core/universe.py\u001b[0m in \u001b[0;36mselect_atoms\u001b[0;34m(self, *args, **kwargs)\u001b[0m\n\u001b[1;32m    697\u001b[0m         \u001b[0;34m:\u001b[0m\u001b[0mmeth\u001b[0m\u001b[0;34m:\u001b[0m\u001b[0;31m`\u001b[0m\u001b[0mMDAnalysis\u001b[0m\u001b[0;34m.\u001b[0m\u001b[0mcore\u001b[0m\u001b[0;34m.\u001b[0m\u001b[0mgroups\u001b[0m\u001b[0;34m.\u001b[0m\u001b[0mAtomGroup\u001b[0m\u001b[0;34m.\u001b[0m\u001b[0mselect_atoms\u001b[0m\u001b[0;31m`\u001b[0m\u001b[0;34m\u001b[0m\u001b[0m\n\u001b[1;32m    698\u001b[0m         \"\"\"\n\u001b[0;32m--> 699\u001b[0;31m         \u001b[0;32mreturn\u001b[0m \u001b[0mself\u001b[0m\u001b[0;34m.\u001b[0m\u001b[0matoms\u001b[0m\u001b[0;34m.\u001b[0m\u001b[0mselect_atoms\u001b[0m\u001b[0;34m(\u001b[0m\u001b[0;34m*\u001b[0m\u001b[0margs\u001b[0m\u001b[0;34m,\u001b[0m \u001b[0;34m**\u001b[0m\u001b[0mkwargs\u001b[0m\u001b[0;34m)\u001b[0m\u001b[0;34m\u001b[0m\u001b[0m\n\u001b[0m\u001b[1;32m    700\u001b[0m \u001b[0;34m\u001b[0m\u001b[0m\n\u001b[1;32m    701\u001b[0m     \u001b[0;34m@\u001b[0m\u001b[0mproperty\u001b[0m\u001b[0;34m\u001b[0m\u001b[0m\n",
      "\u001b[0;32m~/.local/lib/python3.6/site-packages/MDAnalysis/core/groups.py\u001b[0m in \u001b[0;36mselect_atoms\u001b[0;34m(self, sel, *othersel, **selgroups)\u001b[0m\n\u001b[1;32m   2858\u001b[0m             \u001b[0;31m# Apply the first selection and sum to it\u001b[0m\u001b[0;34m\u001b[0m\u001b[0;34m\u001b[0m\u001b[0m\n\u001b[1;32m   2859\u001b[0m             atomgrp = sum([sel.apply(self) for sel in selections[1:]],\n\u001b[0;32m-> 2860\u001b[0;31m                           selections[0].apply(self))\n\u001b[0m\u001b[1;32m   2861\u001b[0m         \u001b[0;32mreturn\u001b[0m \u001b[0matomgrp\u001b[0m\u001b[0;34m\u001b[0m\u001b[0m\n\u001b[1;32m   2862\u001b[0m \u001b[0;34m\u001b[0m\u001b[0m\n",
      "\u001b[0;32m~/.local/lib/python3.6/site-packages/MDAnalysis/core/selection.py\u001b[0m in \u001b[0;36mapply\u001b[0;34m(self, group)\u001b[0m\n\u001b[1;32m    154\u001b[0m     \u001b[0;32mdef\u001b[0m \u001b[0mapply\u001b[0m\u001b[0;34m(\u001b[0m\u001b[0mself\u001b[0m\u001b[0;34m,\u001b[0m \u001b[0mgroup\u001b[0m\u001b[0;34m)\u001b[0m\u001b[0;34m:\u001b[0m\u001b[0;34m\u001b[0m\u001b[0m\n\u001b[1;32m    155\u001b[0m         \u001b[0mlsel\u001b[0m \u001b[0;34m=\u001b[0m \u001b[0mself\u001b[0m\u001b[0;34m.\u001b[0m\u001b[0mlsel\u001b[0m\u001b[0;34m.\u001b[0m\u001b[0mapply\u001b[0m\u001b[0;34m(\u001b[0m\u001b[0mgroup\u001b[0m\u001b[0;34m)\u001b[0m\u001b[0;34m\u001b[0m\u001b[0m\n\u001b[0;32m--> 156\u001b[0;31m         \u001b[0mrsel\u001b[0m \u001b[0;34m=\u001b[0m \u001b[0mself\u001b[0m\u001b[0;34m.\u001b[0m\u001b[0mrsel\u001b[0m\u001b[0;34m.\u001b[0m\u001b[0mapply\u001b[0m\u001b[0;34m(\u001b[0m\u001b[0mgroup\u001b[0m\u001b[0;34m)\u001b[0m\u001b[0;34m\u001b[0m\u001b[0m\n\u001b[0m\u001b[1;32m    157\u001b[0m \u001b[0;34m\u001b[0m\u001b[0m\n\u001b[1;32m    158\u001b[0m         \u001b[0;31m# Find unique indices from both these AtomGroups\u001b[0m\u001b[0;34m\u001b[0m\u001b[0;34m\u001b[0m\u001b[0m\n",
      "\u001b[0;32m~/.local/lib/python3.6/site-packages/MDAnalysis/core/selection.py\u001b[0m in \u001b[0;36mapply\u001b[0;34m(self, group)\u001b[0m\n\u001b[1;32m    530\u001b[0m             \u001b[0mwc_pos\u001b[0m \u001b[0;34m=\u001b[0m \u001b[0mval\u001b[0m\u001b[0;34m.\u001b[0m\u001b[0mfind\u001b[0m\u001b[0;34m(\u001b[0m\u001b[0;34m'*'\u001b[0m\u001b[0;34m)\u001b[0m\u001b[0;34m\u001b[0m\u001b[0m\n\u001b[1;32m    531\u001b[0m             \u001b[0;32mif\u001b[0m \u001b[0mwc_pos\u001b[0m \u001b[0;34m==\u001b[0m \u001b[0;34m-\u001b[0m\u001b[0;36m1\u001b[0m\u001b[0;34m:\u001b[0m  \u001b[0;31m# No wildcard found\u001b[0m\u001b[0;34m\u001b[0m\u001b[0m\n\u001b[0;32m--> 532\u001b[0;31m                 \u001b[0mmask\u001b[0m \u001b[0;34m|=\u001b[0m \u001b[0mgetattr\u001b[0m\u001b[0;34m(\u001b[0m\u001b[0mgroup\u001b[0m\u001b[0;34m,\u001b[0m \u001b[0mself\u001b[0m\u001b[0;34m.\u001b[0m\u001b[0mfield\u001b[0m\u001b[0;34m)\u001b[0m \u001b[0;34m==\u001b[0m \u001b[0mval\u001b[0m\u001b[0;34m\u001b[0m\u001b[0m\n\u001b[0m\u001b[1;32m    533\u001b[0m             \u001b[0;32melse\u001b[0m\u001b[0;34m:\u001b[0m\u001b[0;34m\u001b[0m\u001b[0m\n\u001b[1;32m    534\u001b[0m                 \u001b[0mvalues\u001b[0m \u001b[0;34m=\u001b[0m \u001b[0mgetattr\u001b[0m\u001b[0;34m(\u001b[0m\u001b[0mgroup\u001b[0m\u001b[0;34m,\u001b[0m \u001b[0mself\u001b[0m\u001b[0;34m.\u001b[0m\u001b[0mfield\u001b[0m\u001b[0;34m)\u001b[0m\u001b[0;34m.\u001b[0m\u001b[0mastype\u001b[0m\u001b[0;34m(\u001b[0m\u001b[0mnp\u001b[0m\u001b[0;34m.\u001b[0m\u001b[0mstr_\u001b[0m\u001b[0;34m)\u001b[0m\u001b[0;34m\u001b[0m\u001b[0m\n",
      "\u001b[0;32m~/.local/lib/python3.6/site-packages/MDAnalysis/core/groups.py\u001b[0m in \u001b[0;36mgetter\u001b[0;34m(self)\u001b[0m\n\u001b[1;32m    257\u001b[0m         \"\"\"\n\u001b[1;32m    258\u001b[0m         \u001b[0;32mdef\u001b[0m \u001b[0mgetter\u001b[0m\u001b[0;34m(\u001b[0m\u001b[0mself\u001b[0m\u001b[0;34m)\u001b[0m\u001b[0;34m:\u001b[0m\u001b[0;34m\u001b[0m\u001b[0m\n\u001b[0;32m--> 259\u001b[0;31m             \u001b[0;32mreturn\u001b[0m \u001b[0mattr\u001b[0m\u001b[0;34m.\u001b[0m\u001b[0m__getitem__\u001b[0m\u001b[0;34m(\u001b[0m\u001b[0mself\u001b[0m\u001b[0;34m)\u001b[0m\u001b[0;34m\u001b[0m\u001b[0m\n\u001b[0m\u001b[1;32m    260\u001b[0m \u001b[0;34m\u001b[0m\u001b[0m\n\u001b[1;32m    261\u001b[0m         \u001b[0;32mdef\u001b[0m \u001b[0msetter\u001b[0m\u001b[0;34m(\u001b[0m\u001b[0mself\u001b[0m\u001b[0;34m,\u001b[0m \u001b[0mvalues\u001b[0m\u001b[0;34m)\u001b[0m\u001b[0;34m:\u001b[0m\u001b[0;34m\u001b[0m\u001b[0m\n",
      "\u001b[0;32m~/.local/lib/python3.6/site-packages/MDAnalysis/core/topologyattrs.py\u001b[0m in \u001b[0;36m__getitem__\u001b[0;34m(self, group)\u001b[0m\n\u001b[1;32m    270\u001b[0m         \u001b[0;34m\"\"\"Accepts an AtomGroup, ResidueGroup or SegmentGroup\"\"\"\u001b[0m\u001b[0;34m\u001b[0m\u001b[0m\n\u001b[1;32m    271\u001b[0m         \u001b[0;32mif\u001b[0m \u001b[0misinstance\u001b[0m\u001b[0;34m(\u001b[0m\u001b[0mgroup\u001b[0m\u001b[0;34m,\u001b[0m \u001b[0;34m(\u001b[0m\u001b[0mAtom\u001b[0m\u001b[0;34m,\u001b[0m \u001b[0mAtomGroup\u001b[0m\u001b[0;34m)\u001b[0m\u001b[0;34m)\u001b[0m\u001b[0;34m:\u001b[0m\u001b[0;34m\u001b[0m\u001b[0m\n\u001b[0;32m--> 272\u001b[0;31m             \u001b[0;32mreturn\u001b[0m \u001b[0mself\u001b[0m\u001b[0;34m.\u001b[0m\u001b[0mget_atoms\u001b[0m\u001b[0;34m(\u001b[0m\u001b[0mgroup\u001b[0m\u001b[0;34m)\u001b[0m\u001b[0;34m\u001b[0m\u001b[0m\n\u001b[0m\u001b[1;32m    273\u001b[0m         \u001b[0;32melif\u001b[0m \u001b[0misinstance\u001b[0m\u001b[0;34m(\u001b[0m\u001b[0mgroup\u001b[0m\u001b[0;34m,\u001b[0m \u001b[0;34m(\u001b[0m\u001b[0mResidue\u001b[0m\u001b[0;34m,\u001b[0m \u001b[0mResidueGroup\u001b[0m\u001b[0;34m)\u001b[0m\u001b[0;34m)\u001b[0m\u001b[0;34m:\u001b[0m\u001b[0;34m\u001b[0m\u001b[0m\n\u001b[1;32m    274\u001b[0m             \u001b[0;32mreturn\u001b[0m \u001b[0mself\u001b[0m\u001b[0;34m.\u001b[0m\u001b[0mget_residues\u001b[0m\u001b[0;34m(\u001b[0m\u001b[0mgroup\u001b[0m\u001b[0;34m)\u001b[0m\u001b[0;34m\u001b[0m\u001b[0m\n",
      "\u001b[0;32m~/.local/lib/python3.6/site-packages/MDAnalysis/core/topologyattrs.py\u001b[0m in \u001b[0;36mget_atoms\u001b[0;34m(self, ag)\u001b[0m\n\u001b[1;32m   1294\u001b[0m     \u001b[0;32mdef\u001b[0m \u001b[0mget_atoms\u001b[0m\u001b[0;34m(\u001b[0m\u001b[0mself\u001b[0m\u001b[0;34m,\u001b[0m \u001b[0mag\u001b[0m\u001b[0;34m)\u001b[0m\u001b[0;34m:\u001b[0m\u001b[0;34m\u001b[0m\u001b[0m\n\u001b[1;32m   1295\u001b[0m         \u001b[0mrix\u001b[0m \u001b[0;34m=\u001b[0m \u001b[0mself\u001b[0m\u001b[0;34m.\u001b[0m\u001b[0mtop\u001b[0m\u001b[0;34m.\u001b[0m\u001b[0mtt\u001b[0m\u001b[0;34m.\u001b[0m\u001b[0matoms2residues\u001b[0m\u001b[0;34m(\u001b[0m\u001b[0mag\u001b[0m\u001b[0;34m.\u001b[0m\u001b[0mix\u001b[0m\u001b[0;34m)\u001b[0m\u001b[0;34m\u001b[0m\u001b[0m\n\u001b[0;32m-> 1296\u001b[0;31m         \u001b[0;32mreturn\u001b[0m \u001b[0mself\u001b[0m\u001b[0;34m.\u001b[0m\u001b[0mvalues\u001b[0m\u001b[0;34m[\u001b[0m\u001b[0mrix\u001b[0m\u001b[0;34m]\u001b[0m\u001b[0;34m\u001b[0m\u001b[0m\n\u001b[0m\u001b[1;32m   1297\u001b[0m \u001b[0;34m\u001b[0m\u001b[0m\n\u001b[1;32m   1298\u001b[0m     \u001b[0;32mdef\u001b[0m \u001b[0mset_atoms\u001b[0m\u001b[0;34m(\u001b[0m\u001b[0mself\u001b[0m\u001b[0;34m,\u001b[0m \u001b[0mag\u001b[0m\u001b[0;34m,\u001b[0m \u001b[0mvalues\u001b[0m\u001b[0;34m)\u001b[0m\u001b[0;34m:\u001b[0m\u001b[0;34m\u001b[0m\u001b[0m\n",
      "\u001b[0;31mKeyboardInterrupt\u001b[0m: "
     ]
    }
   ],
   "source": [
    "def boxplot_hbond(peptide):\n",
    "    output1=[]\n",
    "    output2=[]\n",
    "    for k in range(0,(peptide['pepnum'])):\n",
    "        temp1 =[]\n",
    "        timecount1 =[]\n",
    "        for i in range(0,(peptide['resnum'])):\n",
    "            timecount1.append(u.trajectory.time)\n",
    "            number1 = (i+(k*peptide['resnum']))+peptide1['starting_resid']\n",
    "            temp = MDAnalysis.analysis.hbonds.HydrogenBondAnalysis(u, \"resid %s\"%number1, \n",
    "                                                               \"resname POPE or resname POPG\",update_selection=\"True\",\n",
    "                                                               distance=3.0,angle=120,donors=lipid_donors,\n",
    "                                                               acceptors=lipid_acceptors)\n",
    "            temp.run(step=100)\n",
    "            count = temp.count_by_time()\n",
    "            value = pd.DataFrame(count)['count'].sum()\n",
    "            output1.append([peptide['Aminos'][i],value,peptide['peptide_name']])\n",
    "    df_out = pd.DataFrame(output1)\n",
    "    return df_out\n",
    "\n",
    "save_file = boxplot_hbond(peptide1)\n",
    "save_file.to_csv('hbond_sum_%s.csv'%peptide1['peptide_name'])\n"
   ]
  },
  {
   "cell_type": "code",
   "execution_count": null,
   "metadata": {},
   "outputs": [],
   "source": [
    "boxplot_hbond(peptide1)"
   ]
  },
  {
   "cell_type": "code",
   "execution_count": null,
   "metadata": {},
   "outputs": [],
   "source": [
    "#create selection\n",
    "all_hbond_selection =MDAnalysis.analysis.hbonds.HydrogenBondAnalysis(u, \"protein\", \n",
    "                                                           \"resname POPE or resname POPG\",update_selection=\"True\",\n",
    "                                                            distance=3.0,angle=120,donors=lipid_donors,\n",
    "                                                            acceptors=lipid_acceptors)\n",
    "#run hbond analysis module\n",
    "all_hbond_selection.run(step=100)\n",
    "#create dataframe\n",
    "df_all = pd.DataFrame(all_hbond_selection.count_by_time())\n",
    "#save as csv\n",
    "df_all.to_csv('hbond_count_%s.csv'%peptide1['peptide_name'], sep=',')"
   ]
  },
  {
   "cell_type": "code",
   "execution_count": null,
   "metadata": {},
   "outputs": [],
   "source": [
    "###enter amino acid three letter code \n",
    "Amino_acid = \"GLU\"\n",
    "amino_dict= d['%s'%Amino_acid]\n",
    "number_of_aminos = sequence.count('%s'%amino_dict)\n",
    "\n",
    "###set selection as the amino acid of interest. This could also be substited for resid ? \n",
    "selection =MDAnalysis.analysis.hbonds.HydrogenBondAnalysis(u, \"resname %s\"%Amino_acid, \n",
    "                                                           \"resname POPE or resname POPG\",update_selection=\"True\",\n",
    "                                                            distance=3.0,angle=120,donors=lipid_donors,\n",
    "                                                            acceptors=lipid_acceptors)\n",
    "#Change the start and step here, code below will alter occupancy calculation accordingly.\n",
    "selection.run(step=1000,verbose=True)\n",
    "selection.generate_table()\n"
   ]
  },
  {
   "cell_type": "code",
   "execution_count": null,
   "metadata": {},
   "outputs": [],
   "source": [
    "##take the timeseries and put into a dataframe. group the dataframe and count each type of hydrogen bond\n",
    "df_hbonds = pd.DataFrame.from_records(selection.table)\n",
    "grouped = pd.DataFrame(df_hbonds.groupby(['donor_atom','acceptor_atom','donor_resnm','acceptor_resnm'],\n",
    "                                  as_index = False).size()).reset_index()\n",
    "grouped.rename(columns={ grouped.columns[4]: \"count\" }, inplace = True)\n",
    "\n",
    "##multiple number of amino acids by time to work out how many rows correspond to frames\n",
    "frames = number_of_aminos*16\n",
    "##calculate occupancy, which is the number of frames the hydrogen bond is present\n",
    "#In this instance occupancy is over the course of the whole simulation. \n",
    "grouped['occupancy (%)'] = (grouped['count']/frames)*100\n"
   ]
  },
  {
   "cell_type": "code",
   "execution_count": null,
   "metadata": {},
   "outputs": [],
   "source": [
    "%%capture\n",
    "#####SET UP POPE PLOTTING######\n",
    "\n",
    "POPE = grouped[grouped.eq('POPE').any(axis=1)]\n",
    "#The following is a really long series of steps to label backbone. Consider improving\n",
    "POPE['Location1'] = POPE['donor_atom'].apply(lambda x: 1 if x == 'HN' else 0)\n",
    "\n",
    "POPE['Location2'] = POPE['acceptor_atom'].apply(lambda x: 1 if x == 'N' else \\\n",
    "                                              ( 1 if x == 'O' else 0))\n",
    "POPE['Location3']= POPE['Location1']+POPE['Location2']\n",
    "POPE['Location'] = POPE['Location3'].apply(lambda x: 'Sidechain' if x < 1 else 'Backbone')\n",
    "POPE.drop(POPE.columns[6:9], axis=1, inplace=True)\n",
    "# combine column names to give donor-acceptor pairs \n",
    "POPE['Names'] = POPE['donor_atom'] + \"(\" + POPE['donor_resnm'] + \")\" + \"-\" + \\\n",
    "POPE['acceptor_atom'] + \"(\" + POPE['acceptor_resnm'] + \")\"\n",
    "\n",
    "#####SET UP POPG PLOTTING######\n",
    "\n",
    "POPG = grouped[grouped.eq('POPG').any(axis=1)]\n",
    "#The following is a really long series of steps to label backbone. Consider improving\n",
    "POPG['Location1'] = POPG['donor_atom'].apply(lambda x: 1 if x == 'HN' else 0)\n",
    "\n",
    "POPG['Location2'] = POPG['acceptor_atom'].apply(lambda x: 1 if x == 'N' else \\\n",
    "                                              ( 1 if x == 'O' else 0))\n",
    "POPG['Location3']= POPG['Location1']+POPG['Location2']\n",
    "POPG['Location'] = POPG['Location3'].apply(lambda x: 'Sidechain' if x < 1 else 'Backbone')\n",
    "POPG.drop(POPG.columns[6:9], axis=1, inplace=True)\n",
    "# combine column names to give donor-acceptor pairs \n",
    "POPG['Names'] = POPG['donor_atom'] + \"(\" + POPG['donor_resnm'] + \")\" + \"-\" + \\\n",
    "POPG['acceptor_atom'] + \"(\" + POPG['acceptor_resnm'] + \")\"\n",
    "\n"
   ]
  },
  {
   "cell_type": "code",
   "execution_count": null,
   "metadata": {},
   "outputs": [],
   "source": [
    "sns.set_style('whitegrid')\n",
    "#prepare color labels\n",
    "colors = {'Sidechain':'red','Backbone':'blue'}\n",
    "POPE['color'] = POPE['Location'].apply(lambda x: colors[x])\n",
    "#make figure\n",
    "sns.barplot(x=POPE['Names'],y=POPE['occupancy (%)'],palette=POPE['color'])\n",
    "sns.despine()\n",
    "plt.xticks(rotation=90)\n",
    "\n",
    "import matplotlib.patches as mpatches\n",
    "red_patch = mpatches.Patch(color='red',label='Sidechain')\n",
    "blue_patch = mpatches.Patch(color='Blue',label='Backbone')\n",
    "plt.legend(handles=[red_patch,blue_patch])\n",
    "plt.title('Hydrogen bonds with POPE')\n",
    "plt.savefig('POPE_hbonds_%s.png'%Amino_acid,dpi=300,bbox_inches=\"tight\")"
   ]
  },
  {
   "cell_type": "code",
   "execution_count": null,
   "metadata": {},
   "outputs": [],
   "source": [
    "colors = {'Sidechain':'red','Backbone':'blue'}\n",
    "POPG['color'] = POPG['Location'].apply(lambda x: colors[x])\n",
    "\n",
    "\n",
    "sns.set_style('whitegrid')\n",
    "sns.barplot(x=POPG['Names'],y=POPG['occupancy (%)'],palette=POPG['color'])\n",
    "sns.despine()\n",
    "plt.xticks(rotation=90)\n",
    "\n",
    "import matplotlib.patches as mpatches\n",
    "red_patch = mpatches.Patch(color='red',label='Sidechain')\n",
    "blue_patch = mpatches.Patch(color='Blue',label='Backbone')\n",
    "plt.legend(handles=[red_patch,blue_patch])\n",
    "plt.title('Hydrogen bonds with POPG')\n",
    "plt.savefig('POPG_hbonds_%s.png'%Amino_acid,dpi=300,bbox_inches=\"tight\")"
   ]
  }
 ],
 "metadata": {
  "kernelspec": {
   "display_name": "Python 3",
   "language": "python",
   "name": "python3"
  },
  "language_info": {
   "codemirror_mode": {
    "name": "ipython",
    "version": 3
   },
   "file_extension": ".py",
   "mimetype": "text/x-python",
   "name": "python",
   "nbconvert_exporter": "python",
   "pygments_lexer": "ipython3",
   "version": "3.6.4"
  }
 },
 "nbformat": 4,
 "nbformat_minor": 2
}
