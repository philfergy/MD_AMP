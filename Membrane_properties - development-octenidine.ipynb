{
 "cells": [
  {
   "cell_type": "markdown",
   "metadata": {},
   "source": [
    "<b><u>The following program will work out the overall and thickness local to antimcirobial for a simulation</u></b>. \n",
    "\n",
    "The steps to calculate local thickness are as follows:\n",
    " <ul>\n",
    "  <li>Find lipids on the top layer within 6 angstrom of protein</li>\n",
    "  <li>Find lipids within 6 angstrom of the above lipids</li>\n",
    "  <li>Subtract the average z position of the two groups </li>\n",
    "</ul> \n",
    "\n",
    "\n",
    "The overall thickness is calculated by taking the average z position of the top leaflet and the bottom leaflet. \n",
    "\n",
    "\n",
    "<i>To do: \n",
    "\n",
    "Output a lipid bilayer with the thickness score attached as a b-factor.</i>"
   ]
  },
  {
   "cell_type": "code",
   "execution_count": 3,
   "metadata": {},
   "outputs": [],
   "source": [
    "import MDAnalysis\n",
    "import numpy as np\n",
    "import pandas as pd\n",
    "import matplotlib.pyplot as plt\n",
    "import seaborn as sns\n",
    "import MDAnalysis.analysis.hbonds"
   ]
  },
  {
   "cell_type": "code",
   "execution_count": 9,
   "metadata": {},
   "outputs": [
    {
     "name": "stdout",
     "output_type": "stream",
     "text": [
      "\u001b[34moctenidine_PEPG\u001b[m\u001b[m traj_comp.xtc\r\n"
     ]
    }
   ],
   "source": [
    "! ls /volumes/external/antiseptic_simulations/octenidine_PEPG\n",
    "\n"
   ]
  },
  {
   "cell_type": "code",
   "execution_count": 238,
   "metadata": {},
   "outputs": [],
   "source": [
    "### Number of peptides ####\n",
    "pepnum =4 \n",
    "##gromacs configuration file###\n",
    "gro_file = '/volumes/external/antiseptic_simulations/octenidine_PEPG/confout.gro'\n",
    "##compressed trajectory file###\n",
    "trajectory_file = '/volumes/external/antiseptic_simulations/octenidine_PEPG/traj_comp.xtc'\n",
    "u = MDAnalysis.Universe('%s'%gro_file, '%s'%trajectory_file)\n",
    "##### Sim start and sim end time in ns\n",
    "start = 0 \n",
    "end = 300\n",
    "#### Single letter sequence #####\n",
    "sequence = 'LLGDFFRKSKEKIGKEFKRIVQRIKDFLRNLVPRTES'\n",
    "resnum = len(sequence) "
   ]
  },
  {
   "cell_type": "code",
   "execution_count": 239,
   "metadata": {},
   "outputs": [],
   "source": [
    "#use mdanalysis leaflet finder\n",
    "from MDAnalysis.analysis import leaflet\n",
    "L = leaflet.LeafletFinder(u, 'name P')"
   ]
  },
  {
   "cell_type": "code",
   "execution_count": 240,
   "metadata": {},
   "outputs": [],
   "source": [
    "top_segment = u.add_Segment(segid='top_layer')\n",
    "top_segment.atoms\n",
    "top_atoms = L.groups(1).atoms\n",
    "top_atoms.residues.segments = top_segment"
   ]
  },
  {
   "cell_type": "code",
   "execution_count": 234,
   "metadata": {},
   "outputs": [
    {
     "data": {
      "text/plain": [
       "<AtomGroup with 256 atoms>"
      ]
     },
     "execution_count": 234,
     "metadata": {},
     "output_type": "execute_result"
    }
   ],
   "source": [
    "L.groups(1).atoms"
   ]
  },
  {
   "cell_type": "code",
   "execution_count": 235,
   "metadata": {},
   "outputs": [],
   "source": [
    "bottom_segment = u.add_Segment(segid='bottom_layer')\n",
    "bottom_segment.atoms\n",
    "bottom_atoms = L.groups(0).atoms\n",
    "bottom_atoms.residues.segments = bottom_segment"
   ]
  },
  {
   "cell_type": "code",
   "execution_count": 249,
   "metadata": {},
   "outputs": [
    {
     "data": {
      "text/plain": [
       "[<Residue POPE, 1>]"
      ]
     },
     "execution_count": 249,
     "metadata": {},
     "output_type": "execute_result"
    }
   ],
   "source": [
    "list(u.select_atoms('segid top_layer and around 6 resname octen'))"
   ]
  },
  {
   "cell_type": "code",
   "execution_count": null,
   "metadata": {},
   "outputs": [
    {
     "name": "stdout",
     "output_type": "stream",
     "text": [
      "0\n",
      "0\n",
      "0\n",
      "0\n",
      "0\n",
      "0\n",
      "0\n",
      "0\n",
      "0\n",
      "0\n",
      "0\n",
      "0\n",
      "0\n",
      "0\n",
      "0\n",
      "0\n",
      "0\n",
      "0\n",
      "0\n",
      "0\n",
      "0\n",
      "0\n",
      "0\n",
      "0\n",
      "0\n",
      "0\n",
      "0\n"
     ]
    }
   ],
   "source": [
    "for ts in u.trajectory[0::100]:\n",
    "    print(len(u.select_atoms('segid bottomlayer and around 4 resname octen')))"
   ]
  },
  {
   "cell_type": "code",
   "execution_count": 199,
   "metadata": {},
   "outputs": [
    {
     "name": "stderr",
     "output_type": "stream",
     "text": [
      "/Users/philipferguson/anaconda3/lib/python3.6/site-packages/numpy/core/fromnumeric.py:3118: RuntimeWarning: Mean of empty slice.\n",
      "  out=out, **kwargs)\n",
      "/Users/philipferguson/anaconda3/lib/python3.6/site-packages/numpy/core/_methods.py:85: RuntimeWarning: invalid value encountered in true_divide\n",
      "  ret = ret.dtype.type(ret / rcount)\n"
     ]
    },
    {
     "ename": "KeyboardInterrupt",
     "evalue": "",
     "output_type": "error",
     "traceback": [
      "\u001b[0;31m---------------------------------------------------------------------------\u001b[0m",
      "\u001b[0;31mKeyboardInterrupt\u001b[0m                         Traceback (most recent call last)",
      "\u001b[0;32m<ipython-input-199-7ba0b5bc5d1a>\u001b[0m in \u001b[0;36m<module>\u001b[0;34m()\u001b[0m\n\u001b[1;32m     10\u001b[0m     \u001b[0mtop\u001b[0m \u001b[0;34m=\u001b[0m \u001b[0mnp\u001b[0m\u001b[0;34m.\u001b[0m\u001b[0mmean\u001b[0m\u001b[0;34m(\u001b[0m\u001b[0mu\u001b[0m\u001b[0;34m.\u001b[0m\u001b[0mselect_atoms\u001b[0m\u001b[0;34m(\u001b[0m\u001b[0;34m'name P and segid top_layer_protein'\u001b[0m\u001b[0;34m)\u001b[0m\u001b[0;34m.\u001b[0m\u001b[0mpositions\u001b[0m\u001b[0;34m[\u001b[0m\u001b[0;34m:\u001b[0m\u001b[0;34m,\u001b[0m\u001b[0;34m[\u001b[0m\u001b[0;36m2\u001b[0m\u001b[0;34m]\u001b[0m\u001b[0;34m]\u001b[0m\u001b[0;34m)\u001b[0m\u001b[0;34m\u001b[0m\u001b[0m\n\u001b[1;32m     11\u001b[0m     \u001b[0;31m##selection atoms on bottom layer, near top layer for distance calculation\u001b[0m\u001b[0;34m\u001b[0m\u001b[0;34m\u001b[0m\u001b[0m\n\u001b[0;32m---> 12\u001b[0;31m     \u001b[0mbottom\u001b[0m \u001b[0;34m=\u001b[0m \u001b[0mnp\u001b[0m\u001b[0;34m.\u001b[0m\u001b[0mmean\u001b[0m\u001b[0;34m(\u001b[0m\u001b[0mu\u001b[0m\u001b[0;34m.\u001b[0m\u001b[0mselect_atoms\u001b[0m\u001b[0;34m(\u001b[0m\u001b[0;34m'name P and segid bottom_layer and same residue as around 6 segid top_layer_protein'\u001b[0m\u001b[0;34m)\u001b[0m\u001b[0;34m.\u001b[0m\u001b[0mpositions\u001b[0m\u001b[0;34m[\u001b[0m\u001b[0;34m:\u001b[0m\u001b[0;34m,\u001b[0m\u001b[0;34m[\u001b[0m\u001b[0;36m2\u001b[0m\u001b[0;34m]\u001b[0m\u001b[0;34m]\u001b[0m\u001b[0;34m)\u001b[0m\u001b[0;34m\u001b[0m\u001b[0m\n\u001b[0m\u001b[1;32m     13\u001b[0m     \u001b[0mlocal_thickness\u001b[0m \u001b[0;34m=\u001b[0m \u001b[0mtop\u001b[0m\u001b[0;34m-\u001b[0m\u001b[0mbottom\u001b[0m\u001b[0;34m\u001b[0m\u001b[0m\n\u001b[1;32m     14\u001b[0m     \u001b[0;31m##overall thickness\u001b[0m\u001b[0;34m\u001b[0m\u001b[0;34m\u001b[0m\u001b[0m\n",
      "\u001b[0;32m~/.local/lib/python3.6/site-packages/MDAnalysis/core/universe.py\u001b[0m in \u001b[0;36mselect_atoms\u001b[0;34m(self, *args, **kwargs)\u001b[0m\n\u001b[1;32m    697\u001b[0m         \u001b[0;34m:\u001b[0m\u001b[0mmeth\u001b[0m\u001b[0;34m:\u001b[0m\u001b[0;31m`\u001b[0m\u001b[0mMDAnalysis\u001b[0m\u001b[0;34m.\u001b[0m\u001b[0mcore\u001b[0m\u001b[0;34m.\u001b[0m\u001b[0mgroups\u001b[0m\u001b[0;34m.\u001b[0m\u001b[0mAtomGroup\u001b[0m\u001b[0;34m.\u001b[0m\u001b[0mselect_atoms\u001b[0m\u001b[0;31m`\u001b[0m\u001b[0;34m\u001b[0m\u001b[0m\n\u001b[1;32m    698\u001b[0m         \"\"\"\n\u001b[0;32m--> 699\u001b[0;31m         \u001b[0;32mreturn\u001b[0m \u001b[0mself\u001b[0m\u001b[0;34m.\u001b[0m\u001b[0matoms\u001b[0m\u001b[0;34m.\u001b[0m\u001b[0mselect_atoms\u001b[0m\u001b[0;34m(\u001b[0m\u001b[0;34m*\u001b[0m\u001b[0margs\u001b[0m\u001b[0;34m,\u001b[0m \u001b[0;34m**\u001b[0m\u001b[0mkwargs\u001b[0m\u001b[0;34m)\u001b[0m\u001b[0;34m\u001b[0m\u001b[0m\n\u001b[0m\u001b[1;32m    700\u001b[0m \u001b[0;34m\u001b[0m\u001b[0m\n\u001b[1;32m    701\u001b[0m     \u001b[0;34m@\u001b[0m\u001b[0mproperty\u001b[0m\u001b[0;34m\u001b[0m\u001b[0m\n",
      "\u001b[0;32m~/.local/lib/python3.6/site-packages/MDAnalysis/core/groups.py\u001b[0m in \u001b[0;36mselect_atoms\u001b[0;34m(self, sel, *othersel, **selgroups)\u001b[0m\n\u001b[1;32m   2858\u001b[0m             \u001b[0;31m# Apply the first selection and sum to it\u001b[0m\u001b[0;34m\u001b[0m\u001b[0;34m\u001b[0m\u001b[0m\n\u001b[1;32m   2859\u001b[0m             atomgrp = sum([sel.apply(self) for sel in selections[1:]],\n\u001b[0;32m-> 2860\u001b[0;31m                           selections[0].apply(self))\n\u001b[0m\u001b[1;32m   2861\u001b[0m         \u001b[0;32mreturn\u001b[0m \u001b[0matomgrp\u001b[0m\u001b[0;34m\u001b[0m\u001b[0m\n\u001b[1;32m   2862\u001b[0m \u001b[0;34m\u001b[0m\u001b[0m\n",
      "\u001b[0;32m~/.local/lib/python3.6/site-packages/MDAnalysis/core/selection.py\u001b[0m in \u001b[0;36mapply\u001b[0;34m(self, group)\u001b[0m\n\u001b[1;32m    139\u001b[0m \u001b[0;34m\u001b[0m\u001b[0m\n\u001b[1;32m    140\u001b[0m     \u001b[0;32mdef\u001b[0m \u001b[0mapply\u001b[0m\u001b[0;34m(\u001b[0m\u001b[0mself\u001b[0m\u001b[0;34m,\u001b[0m \u001b[0mgroup\u001b[0m\u001b[0;34m)\u001b[0m\u001b[0;34m:\u001b[0m\u001b[0;34m\u001b[0m\u001b[0m\n\u001b[0;32m--> 141\u001b[0;31m         \u001b[0mrsel\u001b[0m \u001b[0;34m=\u001b[0m \u001b[0mself\u001b[0m\u001b[0;34m.\u001b[0m\u001b[0mrsel\u001b[0m\u001b[0;34m.\u001b[0m\u001b[0mapply\u001b[0m\u001b[0;34m(\u001b[0m\u001b[0mgroup\u001b[0m\u001b[0;34m)\u001b[0m\u001b[0;34m\u001b[0m\u001b[0m\n\u001b[0m\u001b[1;32m    142\u001b[0m         \u001b[0mlsel\u001b[0m \u001b[0;34m=\u001b[0m \u001b[0mself\u001b[0m\u001b[0;34m.\u001b[0m\u001b[0mlsel\u001b[0m\u001b[0;34m.\u001b[0m\u001b[0mapply\u001b[0m\u001b[0;34m(\u001b[0m\u001b[0mgroup\u001b[0m\u001b[0;34m)\u001b[0m\u001b[0;34m\u001b[0m\u001b[0m\n\u001b[1;32m    143\u001b[0m \u001b[0;34m\u001b[0m\u001b[0m\n",
      "\u001b[0;32m~/.local/lib/python3.6/site-packages/MDAnalysis/core/selection.py\u001b[0m in \u001b[0;36mapply\u001b[0;34m(self, group)\u001b[0m\n\u001b[1;32m   1060\u001b[0m \u001b[0;34m\u001b[0m\u001b[0m\n\u001b[1;32m   1061\u001b[0m     \u001b[0;32mdef\u001b[0m \u001b[0mapply\u001b[0m\u001b[0;34m(\u001b[0m\u001b[0mself\u001b[0m\u001b[0;34m,\u001b[0m \u001b[0mgroup\u001b[0m\u001b[0;34m)\u001b[0m\u001b[0;34m:\u001b[0m\u001b[0;34m\u001b[0m\u001b[0m\n\u001b[0;32m-> 1062\u001b[0;31m         \u001b[0mres\u001b[0m \u001b[0;34m=\u001b[0m \u001b[0mself\u001b[0m\u001b[0;34m.\u001b[0m\u001b[0msel\u001b[0m\u001b[0;34m.\u001b[0m\u001b[0mapply\u001b[0m\u001b[0;34m(\u001b[0m\u001b[0mgroup\u001b[0m\u001b[0;34m)\u001b[0m\u001b[0;34m\u001b[0m\u001b[0m\n\u001b[0m\u001b[1;32m   1063\u001b[0m         \u001b[0;32mif\u001b[0m \u001b[0;32mnot\u001b[0m \u001b[0mres\u001b[0m\u001b[0;34m:\u001b[0m\u001b[0;34m\u001b[0m\u001b[0m\n\u001b[1;32m   1064\u001b[0m             \u001b[0;32mreturn\u001b[0m \u001b[0mgroup\u001b[0m\u001b[0;34m[\u001b[0m\u001b[0;34m[\u001b[0m\u001b[0;34m]\u001b[0m\u001b[0;34m]\u001b[0m  \u001b[0;31m# empty selection\u001b[0m\u001b[0;34m\u001b[0m\u001b[0m\n",
      "\u001b[0;32m~/.local/lib/python3.6/site-packages/MDAnalysis/core/selection.py\u001b[0m in \u001b[0;36mapply\u001b[0;34m(self, group)\u001b[0m\n\u001b[1;32m    269\u001b[0m         pairs = distances.capped_distance(sel.positions, sys.positions,\n\u001b[1;32m    270\u001b[0m                                           \u001b[0mself\u001b[0m\u001b[0;34m.\u001b[0m\u001b[0mcutoff\u001b[0m\u001b[0;34m,\u001b[0m \u001b[0mbox\u001b[0m\u001b[0;34m=\u001b[0m\u001b[0mbox\u001b[0m\u001b[0;34m,\u001b[0m\u001b[0;34m\u001b[0m\u001b[0m\n\u001b[0;32m--> 271\u001b[0;31m                                           return_distances=False)\n\u001b[0m\u001b[1;32m    272\u001b[0m         \u001b[0;32mif\u001b[0m \u001b[0mpairs\u001b[0m\u001b[0;34m.\u001b[0m\u001b[0msize\u001b[0m \u001b[0;34m>\u001b[0m \u001b[0;36m0\u001b[0m\u001b[0;34m:\u001b[0m\u001b[0;34m\u001b[0m\u001b[0m\n\u001b[1;32m    273\u001b[0m             \u001b[0mindices\u001b[0m \u001b[0;34m=\u001b[0m \u001b[0mnp\u001b[0m\u001b[0;34m.\u001b[0m\u001b[0msort\u001b[0m\u001b[0;34m(\u001b[0m\u001b[0mpairs\u001b[0m\u001b[0;34m[\u001b[0m\u001b[0;34m:\u001b[0m\u001b[0;34m,\u001b[0m \u001b[0;36m1\u001b[0m\u001b[0;34m]\u001b[0m\u001b[0;34m)\u001b[0m\u001b[0;34m\u001b[0m\u001b[0m\n",
      "\u001b[0;32m~/.local/lib/python3.6/site-packages/MDAnalysis/lib/distances.py\u001b[0m in \u001b[0;36mcapped_distance\u001b[0;34m(reference, configuration, max_cutoff, min_cutoff, box, method, return_distances)\u001b[0m\n\u001b[1;32m    402\u001b[0m                                min_cutoff=min_cutoff, box=box, method=method)\n\u001b[1;32m    403\u001b[0m     return method(reference, configuration, max_cutoff, min_cutoff=min_cutoff,\n\u001b[0;32m--> 404\u001b[0;31m                   box=box, return_distances=return_distances)\n\u001b[0m\u001b[1;32m    405\u001b[0m \u001b[0;34m\u001b[0m\u001b[0m\n\u001b[1;32m    406\u001b[0m \u001b[0;34m\u001b[0m\u001b[0m\n",
      "\u001b[0;32m~/.local/lib/python3.6/site-packages/MDAnalysis/lib/util.py\u001b[0m in \u001b[0;36mwrapper\u001b[0;34m(*args, **kwargs)\u001b[0m\n\u001b[1;32m   2042\u001b[0m             \u001b[0;32mif\u001b[0m \u001b[0mall_single\u001b[0m \u001b[0;32mand\u001b[0m \u001b[0mreduce_result_if_single\u001b[0m\u001b[0;34m:\u001b[0m\u001b[0;34m\u001b[0m\u001b[0m\n\u001b[1;32m   2043\u001b[0m                 \u001b[0;32mreturn\u001b[0m \u001b[0mfunc\u001b[0m\u001b[0;34m(\u001b[0m\u001b[0;34m*\u001b[0m\u001b[0margs\u001b[0m\u001b[0;34m,\u001b[0m \u001b[0;34m**\u001b[0m\u001b[0mkwargs\u001b[0m\u001b[0;34m)\u001b[0m\u001b[0;34m[\u001b[0m\u001b[0;36m0\u001b[0m\u001b[0;34m]\u001b[0m\u001b[0;34m\u001b[0m\u001b[0m\n\u001b[0;32m-> 2044\u001b[0;31m             \u001b[0;32mreturn\u001b[0m \u001b[0mfunc\u001b[0m\u001b[0;34m(\u001b[0m\u001b[0;34m*\u001b[0m\u001b[0margs\u001b[0m\u001b[0;34m,\u001b[0m \u001b[0;34m**\u001b[0m\u001b[0mkwargs\u001b[0m\u001b[0;34m)\u001b[0m\u001b[0;34m\u001b[0m\u001b[0m\n\u001b[0m\u001b[1;32m   2045\u001b[0m         \u001b[0;32mreturn\u001b[0m \u001b[0mwrapper\u001b[0m\u001b[0;34m\u001b[0m\u001b[0m\n\u001b[1;32m   2046\u001b[0m     \u001b[0;32mreturn\u001b[0m \u001b[0mcheck_coords_decorator\u001b[0m\u001b[0;34m\u001b[0m\u001b[0m\n",
      "\u001b[0;32m~/.local/lib/python3.6/site-packages/MDAnalysis/lib/distances.py\u001b[0m in \u001b[0;36m_nsgrid_capped\u001b[0;34m(reference, configuration, max_cutoff, min_cutoff, box, return_distances)\u001b[0m\n\u001b[1;32m    712\u001b[0m             \u001b[0mresults\u001b[0m \u001b[0;34m=\u001b[0m \u001b[0mgridsearch\u001b[0m\u001b[0;34m.\u001b[0m\u001b[0msearch\u001b[0m\u001b[0;34m(\u001b[0m\u001b[0mreference\u001b[0m\u001b[0;34m)\u001b[0m\u001b[0;34m\u001b[0m\u001b[0m\n\u001b[1;32m    713\u001b[0m \u001b[0;34m\u001b[0m\u001b[0m\n\u001b[0;32m--> 714\u001b[0;31m         \u001b[0mpairs\u001b[0m \u001b[0;34m=\u001b[0m \u001b[0mresults\u001b[0m\u001b[0;34m.\u001b[0m\u001b[0mget_pairs\u001b[0m\u001b[0;34m(\u001b[0m\u001b[0;34m)\u001b[0m\u001b[0;34m\u001b[0m\u001b[0m\n\u001b[0m\u001b[1;32m    715\u001b[0m         \u001b[0;32mif\u001b[0m \u001b[0mreturn_distances\u001b[0m \u001b[0;32mor\u001b[0m \u001b[0;34m(\u001b[0m\u001b[0mmin_cutoff\u001b[0m \u001b[0;32mis\u001b[0m \u001b[0;32mnot\u001b[0m \u001b[0;32mNone\u001b[0m\u001b[0;34m)\u001b[0m\u001b[0;34m:\u001b[0m\u001b[0;34m\u001b[0m\u001b[0m\n\u001b[1;32m    716\u001b[0m             \u001b[0mdistances\u001b[0m \u001b[0;34m=\u001b[0m \u001b[0mresults\u001b[0m\u001b[0;34m.\u001b[0m\u001b[0mget_pair_distances\u001b[0m\u001b[0;34m(\u001b[0m\u001b[0;34m)\u001b[0m\u001b[0;34m\u001b[0m\u001b[0m\n",
      "\u001b[0;32mMDAnalysis/lib/nsgrid.pyx\u001b[0m in \u001b[0;36mMDAnalysis.lib.nsgrid.NSResults.get_pairs\u001b[0;34m()\u001b[0m\n",
      "\u001b[0;32m~/anaconda3/lib/python3.6/site-packages/numpy/core/numeric.py\u001b[0m in \u001b[0;36masarray\u001b[0;34m(a, dtype, order)\u001b[0m\n\u001b[1;32m    536\u001b[0m \u001b[0;34m\u001b[0m\u001b[0m\n\u001b[1;32m    537\u001b[0m     \"\"\"\n\u001b[0;32m--> 538\u001b[0;31m     \u001b[0;32mreturn\u001b[0m \u001b[0marray\u001b[0m\u001b[0;34m(\u001b[0m\u001b[0ma\u001b[0m\u001b[0;34m,\u001b[0m \u001b[0mdtype\u001b[0m\u001b[0;34m,\u001b[0m \u001b[0mcopy\u001b[0m\u001b[0;34m=\u001b[0m\u001b[0;32mFalse\u001b[0m\u001b[0;34m,\u001b[0m \u001b[0morder\u001b[0m\u001b[0;34m=\u001b[0m\u001b[0morder\u001b[0m\u001b[0;34m)\u001b[0m\u001b[0;34m\u001b[0m\u001b[0m\n\u001b[0m\u001b[1;32m    539\u001b[0m \u001b[0;34m\u001b[0m\u001b[0m\n\u001b[1;32m    540\u001b[0m \u001b[0;34m\u001b[0m\u001b[0m\n",
      "\u001b[0;31mKeyboardInterrupt\u001b[0m: "
     ]
    }
   ],
   "source": [
    "##loop through trajectory \n",
    "thickness =[]\n",
    "for ts in u.trajectory[0::50]: \n",
    "    ##create a segment that updates with time step - Is this needed in loop?\n",
    "    top_protein_segment = u.add_Segment(segid='top_layer_protein')\n",
    "    top_protein_segment.atoms\n",
    "    top_protein_atoms = u.select_atoms(\"name P and segid top_layer and same residue as around 6 resname octen \")\n",
    "    top_protein_atoms.residues.segments = top_protein_segment\n",
    "    ##select atoms on top layer near protein, calculate mean z position\n",
    "    top = np.mean(u.select_atoms('name P and segid top_layer_protein').positions[:,[2]])\n",
    "    ##selection atoms on bottom layer, near top layer for distance calculation\n",
    "    bottom = np.mean(u.select_atoms('name P and segid bottom_layer and same residue as around 6 segid top_layer_protein').positions[:,[2]])\n",
    "    local_thickness = top-bottom\n",
    "    ##overall thickness\n",
    "    whole_top = np.mean(u.select_atoms('name P and segid top_layer').positions[:,[2]])\n",
    "    whole_bottom = np.mean(u.select_atoms('name P and segid bottom_layer').positions[:,[2]])   \n",
    "    whole_thickness = whole_top-whole_bottom                       \n",
    "    thickness.append([u.trajectory.time,local_thickness,whole_thickness])"
   ]
  },
  {
   "cell_type": "code",
   "execution_count": 128,
   "metadata": {},
   "outputs": [
    {
     "data": {
      "text/plain": [
       "[[0.0, nan, nan],\n",
       " [1000.0, nan, nan],\n",
       " [2000.0, nan, nan],\n",
       " [3000.0, nan, nan],\n",
       " [4000.0, nan, nan],\n",
       " [5000.0, nan, nan],\n",
       " [6000.0, nan, nan],\n",
       " [7000.0, nan, nan],\n",
       " [8000.0, nan, nan],\n",
       " [9000.0, nan, nan],\n",
       " [10000.0, nan, nan],\n",
       " [11000.0, nan, nan],\n",
       " [12000.0, nan, nan],\n",
       " [13000.0, nan, nan],\n",
       " [14000.0, nan, nan],\n",
       " [15000.0, nan, nan],\n",
       " [16000.0, nan, nan],\n",
       " [17000.0, nan, nan],\n",
       " [18000.0, nan, nan],\n",
       " [19000.0, nan, nan],\n",
       " [20000.0, nan, nan],\n",
       " [21000.0, nan, nan],\n",
       " [22000.0, nan, nan],\n",
       " [23000.0, nan, nan],\n",
       " [24000.0, nan, nan],\n",
       " [25000.0, nan, nan],\n",
       " [26000.0, nan, nan],\n",
       " [27000.0, nan, nan],\n",
       " [28000.0, nan, nan],\n",
       " [29000.0, nan, nan],\n",
       " [30000.0, nan, nan],\n",
       " [31000.0, nan, nan],\n",
       " [32000.0, nan, nan],\n",
       " [33000.0, nan, nan],\n",
       " [34000.0, nan, nan],\n",
       " [35000.0, nan, nan],\n",
       " [36000.0, nan, nan],\n",
       " [37000.0, nan, nan],\n",
       " [38000.0, nan, nan],\n",
       " [39000.0, nan, nan],\n",
       " [40000.0, nan, nan],\n",
       " [41000.0, nan, nan],\n",
       " [42000.0, nan, nan],\n",
       " [43000.0, nan, nan],\n",
       " [44000.0, nan, nan],\n",
       " [45000.0, nan, nan],\n",
       " [46000.0, nan, nan],\n",
       " [47000.0, nan, nan],\n",
       " [48000.0, nan, nan],\n",
       " [49000.0, nan, nan],\n",
       " [50000.0, nan, nan],\n",
       " [51000.0, nan, nan],\n",
       " [52000.0, nan, nan],\n",
       " [53000.0, nan, nan],\n",
       " [54000.0, nan, nan],\n",
       " [55000.0, nan, nan],\n",
       " [56000.0, nan, nan],\n",
       " [57000.0, nan, nan],\n",
       " [58000.0, nan, nan],\n",
       " [59000.0, nan, nan],\n",
       " [60000.0, nan, nan],\n",
       " [61000.0, nan, nan],\n",
       " [62000.0, nan, nan],\n",
       " [63000.0, nan, nan],\n",
       " [64000.0, nan, nan],\n",
       " [65000.0, nan, nan],\n",
       " [66000.0, nan, nan],\n",
       " [67000.0, nan, nan],\n",
       " [68000.0, nan, nan],\n",
       " [69000.0, nan, nan],\n",
       " [70000.0, nan, nan],\n",
       " [71000.0, nan, nan],\n",
       " [72000.0, nan, nan],\n",
       " [73000.0, nan, nan],\n",
       " [74000.0, nan, nan],\n",
       " [75000.0, nan, nan],\n",
       " [76000.0, nan, nan],\n",
       " [77000.0, nan, nan],\n",
       " [78000.0, nan, nan],\n",
       " [79000.0, nan, nan],\n",
       " [80000.0, nan, nan],\n",
       " [81000.0, nan, nan],\n",
       " [82000.0, nan, nan],\n",
       " [83000.0, nan, nan],\n",
       " [84000.0, nan, nan],\n",
       " [85000.0, nan, nan],\n",
       " [86000.0, nan, nan],\n",
       " [87000.0, nan, nan],\n",
       " [88000.0, nan, nan],\n",
       " [89000.0, nan, nan],\n",
       " [90000.0, nan, nan],\n",
       " [91000.0, nan, nan],\n",
       " [92000.0, nan, nan],\n",
       " [93000.0, nan, nan],\n",
       " [94000.0, nan, nan],\n",
       " [95000.0, nan, nan],\n",
       " [96000.0, nan, nan],\n",
       " [97000.0, nan, nan],\n",
       " [98000.0, nan, nan],\n",
       " [99000.0, nan, nan],\n",
       " [100000.0, nan, nan]]"
      ]
     },
     "execution_count": 128,
     "metadata": {},
     "output_type": "execute_result"
    }
   ],
   "source": [
    "thickness"
   ]
  },
  {
   "cell_type": "code",
   "execution_count": 9,
   "metadata": {},
   "outputs": [
    {
     "data": {
      "image/png": "[encoded data removed]",
      "text/plain": [
       "<Figure size 432x288 with 1 Axes>"
      ]
     },
     "metadata": {},
     "output_type": "display_data"
    }
   ],
   "source": [
    "##load columns into data frame, rename\n",
    "df_thick = pd.DataFrame(thickness)\n",
    "df_thick.rename(columns={ df_thick.columns[0]: \"Time (ns)\", df_thick.columns[1]: \"Local\",\n",
    "                   df_thick.columns[2]: \"Overall\" }, inplace = True)\n",
    "##melt, set variabl for hue\n",
    "df_thick = df_thick.melt(id_vars='Time (ns)',var_name='Selection',value_name='Thickness')\n",
    "df_thick['Time (ns)'] = df_thick['Time (ns)']/1000\n",
    "##filter data, similar to moving average\n",
    "from scipy.signal import savgol_filter\n",
    "df_thick['Thickness'] = savgol_filter(df_thick['Thickness'],31,2)\n",
    "##plot \n",
    "sns.lineplot(data=df_thick,x='Time (ns)',y='Thickness',hue='Selection')\n",
    "sns.despine()\n",
    "plt.xlabel(\"Time (ns)\")\n",
    "plt.ylabel(r'Thickness($\\AA$)')\n",
    "plt.savefig('Membrane_thickness.png',dpi=300,bbox_inches=\"tight\")"
   ]
  },
  {
   "cell_type": "markdown",
   "metadata": {},
   "source": [
    "<b><u>The following program will work out the overall and Area per lipid local to antimcirobial for a simulation</u></b>. \n",
    "\n",
    "The steps to calculate local Area_per_lipid are as follows:\n",
    " <ul>\n",
    "  <li>Find coordinates for centre of mass of protein</li>\n",
    "  <li>Calculate number of lipids within a distance. Distance is the external radius of a sphere</li>\n",
    "  <li>Calculate area of circle from radius </li>\n",
    "  <li>Divide area by number of lipids within to give area per lipid </li>\n",
    "  <li>Average each local area per lipid for each peptide </li>\n",
    "</ul> \n",
    "\n",
    "\n",
    "\n",
    "<i>To do: \n",
    "\n",
    "<ul>\n",
    "    Valid results.\n",
    "Consider effective way to avoid artifacts of peptide not being bound to membrane. <ul>\n",
    "</i>"
   ]
  },
  {
   "cell_type": "code",
   "execution_count": 19,
   "metadata": {},
   "outputs": [],
   "source": [
    "##This will create an area around the centre of mass of 20 angstrom and identify lipids within in it.\n",
    "##it will then divde the area by the total number of lipids identified to give the area per lipid (headgroup)\n",
    "## results will be averaged between peptides \n",
    "Area_per_lipid=[]\n",
    "for ts in u.trajectory[1000::100]:\n",
    "    peptide = []\n",
    "    for i in range(0,pepnum):\n",
    "        end_point=(0+1)*resnum\n",
    "        start_point = (0*resnum)+1\n",
    "        selection = \"resid %s\"%start_point + \"-%s\"%end_point\n",
    "        x = str(u.select_atoms('%s'%selection).center_of_mass()[0])\n",
    "        y = str(u.select_atoms(' %s'%selection).center_of_mass()[1])\n",
    "        z = str(u.select_atoms(' %s'%selection).center_of_mass()[2])\n",
    "        #The final part of this string can be adjusted\n",
    "        co_ords = \"%s \"%x + \"%s \" %y + \"%s\"%z + \" 25\"\n",
    "        A = np.pi*np.square(25)\n",
    "        n = int((len(u.select_atoms('name P and same residue as point %s'%co_ords).positions)))\n",
    "        APL = A/n\n",
    "        peptide.append(APL)\n",
    "    #take box vectors, use this to work out overall area per lipid. \n",
    "    whole_area=(np.square(u.dimensions[0])/256)\n",
    "    Area_per_lipid.append([u.trajectory.time,np.mean(peptide),whole_area])"
   ]
  },
  {
   "cell_type": "code",
   "execution_count": 29,
   "metadata": {},
   "outputs": [
    {
     "data": {
      "image/png": "[encoded data removed]",
      "text/plain": [
       "<Figure size 432x288 with 1 Axes>"
      ]
     },
     "metadata": {
      "needs_background": "light"
     },
     "output_type": "display_data"
    }
   ],
   "source": [
    "##load columns into data frame, rename\n",
    "df_apl = pd.DataFrame(Area_per_lipid)\n",
    "df_apl.rename(columns={ df_apl.columns[0]: \"Time (ns)\", df_apl.columns[1]: \"Local\",\n",
    "                   df_apl.columns[2]: \"Overall\" }, inplace = True)\n",
    "##melt, set variabl for hue\n",
    "df_apl = df_apl.melt(id_vars='Time (ns)',var_name='Selection',value_name='Thickness')\n",
    "df_apl['Time (ns)'] = df_apl['Time (ns)']/1000\n",
    "##filter data, similar to moving average\n",
    "from scipy.signal import savgol_filter\n",
    "df_apl['Thickness'] = savgol_filter(df_apl['Thickness'],21,2)\n",
    "##plot \n",
    "sns.lineplot(data=df_apl,x='Time (ns)',y='Thickness',hue='Selection')\n",
    "sns.despine()\n",
    "plt.xlabel(\"Time (ns)\")\n",
    "plt.ylabel(r'Thickness($\\AA$)')\n",
    "plt.savefig('Area_per_lipid.png',dpi=300,bbox_inches=\"tight\")"
   ]
  },
  {
   "cell_type": "markdown",
   "metadata": {},
   "source": [
    "<u><b> The following cells will clculate the ratio of POPE to POPG lipids within 6 angstrom of protein. </b></u>"
   ]
  },
  {
   "cell_type": "code",
   "execution_count": 92,
   "metadata": {},
   "outputs": [],
   "source": [
    "###calculate lipid ratio\n",
    "lipid_ratio=[]\n",
    "for ts in u.trajectory[0::50]: \n",
    "    POPE_near=len(list(u.select_atoms('resname POPE and same residue as around 6 protein').residues))\n",
    "    POPG_near=len(list(u.select_atoms('resname POPG and same residue as around 6 protein').residues))\n",
    "    if int(POPG_near) < 1 or int(POPE_near) < 1:\n",
    "        Ratio=3\n",
    "    else:\n",
    "        Ratio=POPE_near/POPG_near\n",
    "    lipid_ratio.append([u.trajectory.time,Ratio])\n",
    "    "
   ]
  },
  {
   "cell_type": "code",
   "execution_count": 104,
   "metadata": {},
   "outputs": [
    {
     "data": {
      "image/png": "[encoded data removed]",
      "text/plain": [
       "<Figure size 432x288 with 1 Axes>"
      ]
     },
     "metadata": {
      "needs_background": "light"
     },
     "output_type": "display_data"
    }
   ],
   "source": [
    "#plot lipid ratio\n",
    "df_ratio = pd.DataFrame(lipid_ratio)\n",
    "df_ratio.rename(columns={ df_ratio.columns[0]: \"Time (ns)\", df_ratio.columns[1]: \"POPE:POPG Ratio\" }, \n",
    "                inplace = True)\n",
    "df_ratio['POPE:POPG Ratio'] = savgol_filter(df_ratio['POPE:POPG Ratio'],11,2)\n",
    "sns.lineplot(data=df_ratio,x=df_ratio['Time (ns)']/1000,y='POPE:POPG Ratio')\n",
    "sns.despine()\n",
    "plt.savefig('Ratio.png',dpi=300,bbox_inches=\"tight\")"
   ]
  },
  {
   "cell_type": "markdown",
   "metadata": {},
   "source": [
    "<u><b> Can something be written for lipid order parameteR????</b></u>"
   ]
  },
  {
   "cell_type": "code",
   "execution_count": 228,
   "metadata": {},
   "outputs": [
    {
     "ename": "AttributeError",
     "evalue": "No attribute \"timeseries\".",
     "output_type": "error",
     "traceback": [
      "\u001b[0;31m---------------------------------------------------------------------------\u001b[0m",
      "\u001b[0;31mKeyError\u001b[0m                                  Traceback (most recent call last)",
      "\u001b[0;32m~/anaconda3/lib/python3.7/site-packages/MDAnalysis/core/universe.py\u001b[0m in \u001b[0;36m__getattr__\u001b[0;34m(self, key)\u001b[0m\n\u001b[1;32m    509\u001b[0m         \u001b[0;32mtry\u001b[0m\u001b[0;34m:\u001b[0m\u001b[0;34m\u001b[0m\u001b[0;34m\u001b[0m\u001b[0m\n\u001b[0;32m--> 510\u001b[0;31m             \u001b[0msegment\u001b[0m \u001b[0;34m=\u001b[0m \u001b[0mself\u001b[0m\u001b[0;34m.\u001b[0m\u001b[0m_instant_selectors\u001b[0m\u001b[0;34m[\u001b[0m\u001b[0mkey\u001b[0m\u001b[0;34m]\u001b[0m\u001b[0;34m\u001b[0m\u001b[0;34m\u001b[0m\u001b[0m\n\u001b[0m\u001b[1;32m    511\u001b[0m         \u001b[0;32mexcept\u001b[0m \u001b[0mKeyError\u001b[0m\u001b[0;34m:\u001b[0m\u001b[0;34m\u001b[0m\u001b[0;34m\u001b[0m\u001b[0m\n",
      "\u001b[0;31mKeyError\u001b[0m: 'timeseries'",
      "\nDuring handling of the above exception, another exception occurred:\n",
      "\u001b[0;31mAttributeError\u001b[0m                            Traceback (most recent call last)",
      "\u001b[0;32m<ipython-input-228-8237b4345b86>\u001b[0m in \u001b[0;36m<module>\u001b[0;34m\u001b[0m\n\u001b[1;32m     14\u001b[0m     \u001b[0mgroup\u001b[0m \u001b[0;34m=\u001b[0m \u001b[0muniverse\u001b[0m\u001b[0;34m.\u001b[0m\u001b[0mselect_atoms\u001b[0m\u001b[0;34m(\u001b[0m\u001b[0mselection\u001b[0m\u001b[0;34m)\u001b[0m\u001b[0;34m\u001b[0m\u001b[0;34m\u001b[0m\u001b[0m\n\u001b[1;32m     15\u001b[0m \u001b[0;34m\u001b[0m\u001b[0m\n\u001b[0;32m---> 16\u001b[0;31m     \u001b[0mdata\u001b[0m \u001b[0;34m=\u001b[0m \u001b[0muniverse\u001b[0m\u001b[0;34m.\u001b[0m\u001b[0mtimeseries\u001b[0m\u001b[0;34m(\u001b[0m\u001b[0mgroup\u001b[0m\u001b[0;34m,\u001b[0m \u001b[0mformat\u001b[0m\u001b[0;34m=\u001b[0m\u001b[0;34m\"afc\"\u001b[0m\u001b[0;34m,\u001b[0m \u001b[0mskip\u001b[0m\u001b[0;34m=\u001b[0m\u001b[0mskip\u001b[0m\u001b[0;34m)\u001b[0m\u001b[0;34m\u001b[0m\u001b[0;34m\u001b[0m\u001b[0m\n\u001b[0m",
      "\u001b[0;32m~/anaconda3/lib/python3.7/site-packages/MDAnalysis/core/universe.py\u001b[0m in \u001b[0;36m__getattr__\u001b[0;34m(self, key)\u001b[0m\n\u001b[1;32m    510\u001b[0m             \u001b[0msegment\u001b[0m \u001b[0;34m=\u001b[0m \u001b[0mself\u001b[0m\u001b[0;34m.\u001b[0m\u001b[0m_instant_selectors\u001b[0m\u001b[0;34m[\u001b[0m\u001b[0mkey\u001b[0m\u001b[0;34m]\u001b[0m\u001b[0;34m\u001b[0m\u001b[0;34m\u001b[0m\u001b[0m\n\u001b[1;32m    511\u001b[0m         \u001b[0;32mexcept\u001b[0m \u001b[0mKeyError\u001b[0m\u001b[0;34m:\u001b[0m\u001b[0;34m\u001b[0m\u001b[0;34m\u001b[0m\u001b[0m\n\u001b[0;32m--> 512\u001b[0;31m             \u001b[0;32mraise\u001b[0m \u001b[0mAttributeError\u001b[0m\u001b[0;34m(\u001b[0m\u001b[0;34m'No attribute \"{}\".'\u001b[0m\u001b[0;34m.\u001b[0m\u001b[0mformat\u001b[0m\u001b[0;34m(\u001b[0m\u001b[0mkey\u001b[0m\u001b[0;34m)\u001b[0m\u001b[0;34m)\u001b[0m\u001b[0;34m\u001b[0m\u001b[0;34m\u001b[0m\u001b[0m\n\u001b[0m\u001b[1;32m    513\u001b[0m         \u001b[0;32melse\u001b[0m\u001b[0;34m:\u001b[0m\u001b[0;34m\u001b[0m\u001b[0;34m\u001b[0m\u001b[0m\n\u001b[1;32m    514\u001b[0m             warnings.warn(\"Instant selector Universe.<segid> \"\n",
      "\u001b[0;31mAttributeError\u001b[0m: No attribute \"timeseries\"."
     ]
    }
   ],
   "source": [
    "\n",
    "import numpy as np\n",
    "from MDAnalysis import *\n",
    "\n",
    "universe = Universe(\"LL37x4.part0015.gro\")\n",
    "\n",
    "tail_carbons = np.arange(2, 15)\n",
    "\n",
    "skip = 5\n",
    "order_param = np.zeros(len(tail_carbons))\n",
    "\n",
    "for i, carbon in enumerate(tail_carbons):\n",
    "    selection = \"resname DMPC and ( name C2{0:d} or name H{1:d}R or name H{2:d}S or name C3{3:d} or name H{4:d}X or name H{5:d}Y )\".format(* \\\n",
    "                ((carbon,) * 6))\n",
    "    group = universe.select_atoms(selection)\n",
    "\n",
    "    data = universe.timeseries(group, format=\"afc\", skip=skip)"
   ]
  },
  {
   "cell_type": "code",
   "execution_count": null,
   "metadata": {},
   "outputs": [],
   "source": [
    "POPE[\"B\"] = [\"Long\" if ele  == \"BULL\" else \"Short\" for ele in df[\"A\"]]"
   ]
  }
 ],
 "metadata": {
  "kernelspec": {
   "display_name": "Python 3",
   "language": "python",
   "name": "python3"
  },
  "language_info": {
   "codemirror_mode": {
    "name": "ipython",
    "version": 3
   },
   "file_extension": ".py",
   "mimetype": "text/x-python",
   "name": "python",
   "nbconvert_exporter": "python",
   "pygments_lexer": "ipython3",
   "version": "3.6.4"
  }
 },
 "nbformat": 4,
 "nbformat_minor": 2
}
