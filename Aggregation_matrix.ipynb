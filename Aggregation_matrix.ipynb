{
 "cells": [
  {
   "cell_type": "markdown",
   "metadata": {},
   "source": [
    "<u><center><font size=7> Contact matrix </font></center></u>\n",
    "<center> This program will identify pairs of peptides and calculate a residue-residue contact matrix </center>\n",
    "\n",
    "<b>Algorithm steps:</b> \n",
    "\n",
    " <ul>\n",
    "  <li>Find pairs of peptides that have atoms within a minimum distance of 6 angstrom</li>\n",
    "  <li>Take pair of peptides and calculate residue by residue minimum distance </li>\n",
    "  <li>If multiple aggregates are present, take the minimum distance for each residue:residue contact</li>\n",
    "</ul> \n",
    "\n",
    "<b>Directions:</b> \n",
    "\n",
    " <ul>\n",
    "  <li>Fill out dictionary in cell 4</li>\n",
    "  <li>Run all cells </li>\n",
    "</ul> \n",
    "\n",
    "\n",
    "\n",
    "<b>Future developments:</b> \n",
    "\n",
    " <ul>\n",
    "  <li>Adapt for hetrogenous aggregates in synergy simulations</li>\n",
    "  <li> Add functions for non-protenogenic molecules </li>\n",
    "  <li>Consider Free energy calculations between residues of interst</li>\n",
    "</ul> "
   ]
  },
  {
   "cell_type": "code",
   "execution_count": 119,
   "metadata": {},
   "outputs": [],
   "source": [
    "import MDAnalysis\n",
    "from MDAnalysis import analysis\n",
    "import numpy as np\n",
    "import pandas as pd\n",
    "import matplotlib.pyplot as plt\n",
    "import seaborn as sns\n",
    "import re \n"
   ]
  },
  {
   "cell_type": "code",
   "execution_count": 3,
   "metadata": {},
   "outputs": [],
   "source": [
    "### Number of peptides ####\n",
    "##gromacs configuration file###\n",
    "gro_file = 'fullsys.gro'\n",
    "##compressed trajectory file###\n",
    "trajectory_file = 'complete_final.xtc'\n",
    "u = MDAnalysis.Universe('%s'%gro_file, '%s'%trajectory_file)\n",
    "##### Sim start and sim end time\n",
    "start = 0 \n",
    "end = 200"
   ]
  },
  {
   "cell_type": "code",
   "execution_count": 4,
   "metadata": {},
   "outputs": [],
   "source": [
    "################################# INSERT INFO FOR PEPTIDE1 ##########################################\n",
    "peptide = dict()\n",
    "#### Single letter sequence #####\n",
    "peptide['sequence'] = 'LLGDFFRKSKEKIGKEFKRIVQRIKDFLRNLVPRTES'\n",
    "#### Peptide name #####\n",
    "peptide['peptide_name'] = 'LL-37'\n",
    "#### Number of peptides #####\n",
    "peptide['pepnum'] = 4\n",
    "### DO NOT EDIT ###\n",
    "peptide['resnum'] = len(peptide['sequence'])\n",
    "peptide['restot'] = peptide['pepnum']*peptide['resnum']\n",
    "peptide['starting_resid'] = 1"
   ]
  },
  {
   "cell_type": "code",
   "execution_count": 5,
   "metadata": {},
   "outputs": [],
   "source": [
    "#create dictionary of amino acids \n",
    "d = {'CYS': 'C', 'ASP': 'D', 'SER': 'S', 'GLN': 'Q', 'LYS': 'K',\n",
    "     'ILE': 'I', 'PRO': 'P', 'THR': 'T', 'PHE': 'F', 'ASN': 'N', \n",
    "     'GLY': 'G', 'HSP': 'H', 'LEU': 'L', 'ARG': 'R', 'TRP': 'W', \n",
    "     'ALA': 'A', 'VAL':'V', 'GLU': 'E', 'TYR': 'Y', 'MET': 'M'}\n",
    "#invert to permit single letter to be entered\n",
    "inv_map = {v: k for k, v in d.items()}\n",
    "#create function to generate 3 letter code with residue position\n",
    "def single_three(sequence,resnum):\n",
    "    single = (list(sequence)) \n",
    "    Aminos=[]\n",
    "    for i in range(0,(resnum)):\n",
    "        value = single[i]\n",
    "        Aminos.append((str(i+1))+inv_map[value])\n",
    "    return Aminos\n",
    "peptide['Aminos'] = single_three(peptide['sequence'],peptide['resnum'])"
   ]
  },
  {
   "cell_type": "code",
   "execution_count": 69,
   "metadata": {},
   "outputs": [],
   "source": [
    "#Select peptides - Test with combinations of peptides with different sizes (should work though!!)\n",
    "def select_peptides(peptide):\n",
    "    peptide_selections = []\n",
    "    for i in range(0,peptide['pepnum']):\n",
    "        start = (i*peptide['resnum']) + peptide['starting_resid']\n",
    "        end = (i+1)*peptide['resnum'] + (peptide['starting_resid']-1)\n",
    "        selection = \"resid %s\"%start + \":%s\"%end\n",
    "        peptide_selections.append(selection)\n",
    "    return peptide_selections\n",
    "peptide_selections = select_peptides(peptide)"
   ]
  },
  {
   "cell_type": "code",
   "execution_count": 70,
   "metadata": {},
   "outputs": [],
   "source": [
    "def find_pairs(peptide):\n",
    "    import MDAnalysis.analysis.distances\n",
    "    peptide_selections = select_peptides(peptide)\n",
    "    pair_list=[]\n",
    "    for ts in u.trajectory[-1:]:\n",
    "        for i in range(0,len(peptide_selections)):\n",
    "            #loop through second iterator\n",
    "            for j in range(i,len(peptide_selections)):\n",
    "                if i != j:\n",
    "                    #Selection and distasnce calculation\n",
    "                    selection1 = u.select_atoms('%s'%peptide_selections[i]).positions\n",
    "                    selection2 = u.select_atoms('%s'%peptide_selections[j]).positions\n",
    "                    dist = MDAnalysis.analysis.distances.distance_array(selection1, selection2, \n",
    "                                                                        box=None, result=None, backend='serial')\n",
    "                    ##Shoudl this be min or mean? \n",
    "                    min_dist = np.min(dist)\n",
    "                    #Apply cut off of 6 angstrom - could this be stratified better?\n",
    "                    if min_dist < 6:\n",
    "                        pair_list.append([i,j])\n",
    "    return pair_list\n",
    "peptide_pairs = find_pairs(peptide)"
   ]
  },
  {
   "cell_type": "code",
   "execution_count": 99,
   "metadata": {},
   "outputs": [],
   "source": [
    "def distance_matrix(peptide):\n",
    "    import itertools\n",
    "    mindist_matrix_all=[]\n",
    "    mindist_matrix_average =[]\n",
    "    #works same as nested loop\n",
    "    for ts in u.trajectory[-1:]:\n",
    "        for i,j in peptide_pairs:\n",
    "            test1 =[]\n",
    "            #Create lists of residues for pairs\n",
    "            pair_residues_1= np.arange(((i*peptide['resnum']) + peptide['starting_resid']),(\n",
    "                (i+1)*peptide['resnum'] + (peptide['starting_resid'])))\n",
    "            pair_residues_2= np.arange(((j*peptide['resnum']) + peptide['starting_resid']),(\n",
    "                (j+1)*peptide['resnum'] + (peptide['starting_resid'])))\n",
    "            #use itertools to make all permutations \n",
    "            combinations = list(itertools.product(pair_residues_1, pair_residues_2))\n",
    "\n",
    "            #Loop through permutations, create 2D array with amino acid and minimum distance\n",
    "            mindist_matrix_all_peptide = []\n",
    "            mindist_matrix_average_peptide = []\n",
    "            for combination in combinations:\n",
    "                selection1 = u.select_atoms('resid %s'%combination[0]).positions\n",
    "                selection2 = u.select_atoms('resid %s'%combination[1]).positions\n",
    "                dist = MDAnalysis.analysis.distances.distance_array(selection1, selection2, \n",
    "                                                                    box=None, result=None, backend='serial')\n",
    "                min_dist = np.min(dist)\n",
    "                AA_1 = peptide['Aminos'][(combination[0]-combinations[0][0])]\n",
    "                AA_2 = peptide['Aminos'][(combination[1]-combinations[0][1])]\n",
    "                mindist_matrix_all_peptide.append([AA_1,AA_2,min_dist])\n",
    "                mindist_matrix_average_peptide.append(min_dist)\n",
    "                \n",
    "            #Take residue names from the final list of all peptides --- will this work for synergy???\n",
    "            #Convert to array first to permit slicing out of subaxis\n",
    "            mindist_matrix_average.append(mindist_matrix_average_peptide)\n",
    "            #Combine all pairs into one index\n",
    "            mindist_matrix_all.append(mindist_matrix_all)\n",
    "        #pull pair names out from array of all combinations    \n",
    "        names = np.array(mindist_matrix_all_peptide)\n",
    "        #Take the minimum accross peptides ---rename average variables as they are misleading\n",
    "        mindist_matrix_average_out = np.column_stack((np.min(mindist_matrix_average,\n",
    "                                                   axis=0),list(names[:,0]),list(names[:,1])))\n",
    "        return mindist_matrix_average_out"
   ]
  },
  {
   "cell_type": "code",
   "execution_count": 118,
   "metadata": {},
   "outputs": [
    {
     "data": {
      "image/png": "[encoded data removed]",
      "text/plain": [
       "<Figure size 432x288 with 2 Axes>"
      ]
     },
     "metadata": {},
     "output_type": "display_data"
    }
   ],
   "source": [
    "def plot_matrix(peptide):\n",
    "    #Call calculating functio, add to dataframe\n",
    "    df = pd.DataFrame(distance_matrix(peptide))\n",
    "    df.columns = ['mindist', 'Peptide1','Peptide2']\n",
    "    df['mindist'] = df['mindist'].astype(float)\n",
    "    #pviot for heatmap\n",
    "    df = df.pivot(index='Peptide1', columns='Peptide2', values='mindist')\n",
    "    #reorder from 1 to X\n",
    "    df = df.reindex(columns=peptide['Aminos'],index=peptide['Aminos'])\n",
    "    df = df.reset_index()\n",
    "    df['Section_Number'] = df['Peptide1'].str.replace('([A-Z]+)', '').astype(float)\n",
    "    df = df.sort_values('Section_Number',ascending=False)\n",
    "    df = df.drop('Section_Number',1)\n",
    "    df = df.set_index('Peptide1')\n",
    "    #Plot heatmap, consider nicer colormap\n",
    "    #Adjust scale depending on number of residues -- automate??\n",
    "    sns.set(font_scale=0.5)\n",
    "    ax = sns.heatmap(df,vmin=0,vmax=10,linewidths=.05,cbar_kws={'label': 'Minimum Distance ($\\AA$)'})\n",
    "    ax.set_ylabel('')    \n",
    "    ax.set_xlabel('')\n",
    "    plt.tick_params(\n",
    "    which='both', \n",
    "    width = 0.6,\n",
    "    bottom=True,\n",
    "    left=True,\n",
    "    labelbottom=True) \n",
    "    plt.savefig('contact_matrix_%s'%peptide['peptide_name'],dpi=300,bbox_inches=\"tight\")\n",
    "plot_matrix(peptide)"
   ]
  }
 ],
 "metadata": {
  "kernelspec": {
   "display_name": "Python 3",
   "language": "python",
   "name": "python3"
  },
  "language_info": {
   "codemirror_mode": {
    "name": "ipython",
    "version": 3
   },
   "file_extension": ".py",
   "mimetype": "text/x-python",
   "name": "python",
   "nbconvert_exporter": "python",
   "pygments_lexer": "ipython3",
   "version": "3.6.4"
  }
 },
 "nbformat": 4,
 "nbformat_minor": 2
}
